{
  "nbformat": 4,
  "nbformat_minor": 0,
  "metadata": {
    "colab": {
      "provenance": [],
      "authorship_tag": "ABX9TyOUq7j8DTgAcoPpSKIAglIt",
      "include_colab_link": true
    },
    "kernelspec": {
      "name": "python3",
      "display_name": "Python 3"
    },
    "language_info": {
      "name": "python"
    }
  },
  "cells": [
    {
      "cell_type": "markdown",
      "metadata": {
        "id": "view-in-github",
        "colab_type": "text"
      },
      "source": [
        "<a href=\"https://colab.research.google.com/github/Wahiba275/TP1-NLP/blob/main/TP1_NLP.ipynb\" target=\"_parent\"><img src=\"https://colab.research.google.com/assets/colab-badge.svg\" alt=\"Open In Colab\"/></a>"
      ]
    },
    {
      "cell_type": "markdown",
      "source": [
        "#  **Natural Language Processing**"
      ],
      "metadata": {
        "id": "1VdX-jXCJV04"
      }
    },
    {
      "cell_type": "markdown",
      "source": [
        "# Partie 1 : Pré-traitement de texte"
      ],
      "metadata": {
        "id": "Cvaoe5SDLx73"
      }
    },
    {
      "cell_type": "code",
      "execution_count": 79,
      "metadata": {
        "colab": {
          "base_uri": "https://localhost:8080/"
        },
        "id": "v2r9G1UrIGCV",
        "outputId": "00129eff-25cd-492b-df97-cfd584a3d37b"
      },
      "outputs": [
        {
          "output_type": "stream",
          "name": "stdout",
          "text": [
            "Le chat dort sur le tapis.\n",
            "Les oiseaux chantent le matin.\n",
            "Le chien court dans le jardin.\n",
            "Mangeons des pommes délicieuses.\n",
            "Je mange une orange fraîche.\n"
          ]
        }
      ],
      "source": [
        "corpus = [\n",
        "    \"Le chat dort sur le tapis.\",\n",
        "    \"Les oiseaux chantent le matin.\",\n",
        "    \"Le chien court dans le jardin.\",\n",
        "    \"Mangeons des pommes délicieuses.\",\n",
        "    \"Je mange une orange fraîche.\"\n",
        "]\n",
        "for phrase in corpus:\n",
        "    print(phrase)"
      ]
    },
    {
      "cell_type": "code",
      "source": [
        "import pandas as pd\n",
        "df = pd.DataFrame(corpus, columns=['Texte'])\n",
        "print(df)"
      ],
      "metadata": {
        "colab": {
          "base_uri": "https://localhost:8080/"
        },
        "id": "ws9MzLGgMgMG",
        "outputId": "8743ce72-9759-4683-f246-8fcf67f439f3"
      },
      "execution_count": 80,
      "outputs": [
        {
          "output_type": "stream",
          "name": "stdout",
          "text": [
            "                              Texte\n",
            "0        Le chat dort sur le tapis.\n",
            "1    Les oiseaux chantent le matin.\n",
            "2    Le chien court dans le jardin.\n",
            "3  Mangeons des pommes délicieuses.\n",
            "4      Je mange une orange fraîche.\n"
          ]
        }
      ]
    },
    {
      "cell_type": "markdown",
      "source": [
        " Les approches courantes pour le prétraitement d'un corpus de textes:\n",
        "\n",
        "\n",
        "1. **Tokenization**: Il s'agit de diviser un texte en unités plus petites, généralement des mots ou des phrases. Il Permet de travailler avec des unités de texte individuelles, facilitant ainsi l'analyse et la manipulation.\n",
        "2. **Stemming**: Processus par lequel les mots sont réduits à leur forme de base ou racine. Il facilite la généralisation et la comparaison.\n",
        "3. **Lemmatisation**: Semblable au stemming, mais utilise une approche basée sur le dictionnaire pour réduire les mots à leur forme canonique. Il offre une normalisation plus précise que le stemming.\n",
        "4. **Stop-words**: Il s'agit de supprimer les mots courants qui sont généralement considérés comme non pertinents pour l'analyse, tels que \"et\", \"le\", \"à\", etc. Il Réduit la dimensionnalité du texte et met l'accent sur les mots pertinents.\n",
        "\n"
      ],
      "metadata": {
        "id": "D9fvxocDN_zL"
      }
    },
    {
      "cell_type": "code",
      "source": [
        "import string\n",
        "print (string.punctuation )\n",
        "def code ( texte ) :\n",
        "    text_s_pon = [ c for c in texte if c not in string.punctuation ]\n",
        "    return text_s_pon"
      ],
      "metadata": {
        "colab": {
          "base_uri": "https://localhost:8080/"
        },
        "id": "ZdxFibueO9_H",
        "outputId": "c13a987b-3c7d-4aa0-e998-9f7976892c6c"
      },
      "execution_count": 81,
      "outputs": [
        {
          "output_type": "stream",
          "name": "stdout",
          "text": [
            "!\"#$%&'()*+,-./:;<=>?@[\\]^_`{|}~\n"
          ]
        }
      ]
    },
    {
      "cell_type": "markdown",
      "source": [
        "Le code ci-dessus utilise le module `string` pour identifier et supprimer tous les signes de ponctuation d'un texte donné. La fonction `code` prend une chaîne en entrée et renvoie une liste de caractères, excluant tout signe de ponctuation rencontré."
      ],
      "metadata": {
        "id": "BYqXhF3WRJMl"
      }
    },
    {
      "cell_type": "code",
      "source": [
        "#Il faut modifier la fonction code pour ajouter un colonne à notre corpus\n",
        "def code(texte):\n",
        "    return ''.join([c for c in texte if c not in string.punctuation])\n",
        "df['t_s_p'] = df['Texte'].apply(code)\n",
        "print(df)"
      ],
      "metadata": {
        "colab": {
          "base_uri": "https://localhost:8080/"
        },
        "id": "wdwygT7aRFtg",
        "outputId": "923e02a3-ac5d-444c-a5b6-fb93b5f7ef98"
      },
      "execution_count": 82,
      "outputs": [
        {
          "output_type": "stream",
          "name": "stdout",
          "text": [
            "                              Texte                            t_s_p\n",
            "0        Le chat dort sur le tapis.        Le chat dort sur le tapis\n",
            "1    Les oiseaux chantent le matin.    Les oiseaux chantent le matin\n",
            "2    Le chien court dans le jardin.    Le chien court dans le jardin\n",
            "3  Mangeons des pommes délicieuses.  Mangeons des pommes délicieuses\n",
            "4      Je mange une orange fraîche.      Je mange une orange fraîche\n"
          ]
        }
      ]
    },
    {
      "cell_type": "code",
      "source": [
        "!pip install nltk"
      ],
      "metadata": {
        "colab": {
          "base_uri": "https://localhost:8080/"
        },
        "id": "rh3p4NIHUH3S",
        "outputId": "5d99bfea-d034-42f9-a8c7-2e3378ffe6c6"
      },
      "execution_count": 83,
      "outputs": [
        {
          "output_type": "stream",
          "name": "stdout",
          "text": [
            "Requirement already satisfied: nltk in /usr/local/lib/python3.10/dist-packages (3.8.1)\n",
            "Requirement already satisfied: click in /usr/local/lib/python3.10/dist-packages (from nltk) (8.1.7)\n",
            "Requirement already satisfied: joblib in /usr/local/lib/python3.10/dist-packages (from nltk) (1.3.2)\n",
            "Requirement already satisfied: regex>=2021.8.3 in /usr/local/lib/python3.10/dist-packages (from nltk) (2023.6.3)\n",
            "Requirement already satisfied: tqdm in /usr/local/lib/python3.10/dist-packages (from nltk) (4.66.1)\n"
          ]
        }
      ]
    },
    {
      "cell_type": "code",
      "source": [
        "from nltk.tokenize import word_tokenize\n",
        "import nltk\n",
        "nltk.download('punkt')\n",
        "nltk.download('wordnet')\n",
        "nltk.download('omw-1.4')\n",
        "nltk.download('stopwords')\n",
        "def tokenize(text):\n",
        "    return word_tokenize(text)\n",
        "df['t_s_p'] = df['t_s_p'].apply(tokenize)"
      ],
      "metadata": {
        "colab": {
          "base_uri": "https://localhost:8080/"
        },
        "id": "o-ljEedGUH-b",
        "outputId": "3d9d3ebc-e1b1-450c-9062-43e7e6a007eb"
      },
      "execution_count": 84,
      "outputs": [
        {
          "output_type": "stream",
          "name": "stderr",
          "text": [
            "[nltk_data] Downloading package punkt to /root/nltk_data...\n",
            "[nltk_data]   Package punkt is already up-to-date!\n",
            "[nltk_data] Downloading package wordnet to /root/nltk_data...\n",
            "[nltk_data]   Package wordnet is already up-to-date!\n",
            "[nltk_data] Downloading package omw-1.4 to /root/nltk_data...\n",
            "[nltk_data]   Package omw-1.4 is already up-to-date!\n",
            "[nltk_data] Downloading package stopwords to /root/nltk_data...\n",
            "[nltk_data]   Package stopwords is already up-to-date!\n"
          ]
        }
      ]
    },
    {
      "cell_type": "code",
      "source": [
        "print(df)"
      ],
      "metadata": {
        "colab": {
          "base_uri": "https://localhost:8080/"
        },
        "id": "D9qIgfA4UIAK",
        "outputId": "23f640bc-3790-4ee2-f46b-fc2e13a49ddd"
      },
      "execution_count": 85,
      "outputs": [
        {
          "output_type": "stream",
          "name": "stdout",
          "text": [
            "                              Texte                                 t_s_p\n",
            "0        Le chat dort sur le tapis.      [Le, chat, dort, sur, le, tapis]\n",
            "1    Les oiseaux chantent le matin.   [Les, oiseaux, chantent, le, matin]\n",
            "2    Le chien court dans le jardin.  [Le, chien, court, dans, le, jardin]\n",
            "3  Mangeons des pommes délicieuses.  [Mangeons, des, pommes, délicieuses]\n",
            "4      Je mange une orange fraîche.     [Je, mange, une, orange, fraîche]\n"
          ]
        }
      ]
    },
    {
      "cell_type": "code",
      "source": [
        "from nltk.corpus import stopwords\n",
        "def remove_stopwords(tokens):\n",
        "    stop_words = set(stopwords.words('french'))\n",
        "    return [token for token in tokens if token.lower() not in stop_words]\n",
        "df['t_s_p'] = df['t_s_p'].apply(remove_stopwords)\n",
        "print(df)"
      ],
      "metadata": {
        "colab": {
          "base_uri": "https://localhost:8080/"
        },
        "id": "Rz8wd1m0UIDP",
        "outputId": "b753b2aa-b103-47ff-cdc9-31405619a323"
      },
      "execution_count": 86,
      "outputs": [
        {
          "output_type": "stream",
          "name": "stdout",
          "text": [
            "                              Texte                            t_s_p\n",
            "0        Le chat dort sur le tapis.              [chat, dort, tapis]\n",
            "1    Les oiseaux chantent le matin.       [oiseaux, chantent, matin]\n",
            "2    Le chien court dans le jardin.           [chien, court, jardin]\n",
            "3  Mangeons des pommes délicieuses.  [Mangeons, pommes, délicieuses]\n",
            "4      Je mange une orange fraîche.         [mange, orange, fraîche]\n"
          ]
        }
      ]
    },
    {
      "cell_type": "code",
      "source": [
        "from nltk.stem import WordNetLemmatizer, PorterStemmer\n",
        "lemmatizer = WordNetLemmatizer()\n",
        "stemmer = PorterStemmer()\n",
        "\n",
        "def lemmatize_and_stem(tokens):\n",
        "    lemmatized = [lemmatizer.lemmatize(token) for token in tokens]\n",
        "    stemmed = [stemmer.stem(token) for token in lemmatized]\n",
        "    return stemmed\n",
        "df['t_s_p'] = df['t_s_p'].apply(lemmatize_and_stem)\n",
        "print(df)"
      ],
      "metadata": {
        "colab": {
          "base_uri": "https://localhost:8080/"
        },
        "id": "GsKTATHLUIGH",
        "outputId": "b67eeb52-2118-4d0f-b2fa-b4e13ef170ab"
      },
      "execution_count": 87,
      "outputs": [
        {
          "output_type": "stream",
          "name": "stdout",
          "text": [
            "                              Texte                       t_s_p\n",
            "0        Le chat dort sur le tapis.          [chat, dort, tapi]\n",
            "1    Les oiseaux chantent le matin.  [oiseaux, chantent, matin]\n",
            "2    Le chien court dans le jardin.      [chien, court, jardin]\n",
            "3  Mangeons des pommes délicieuses.  [mangeon, pomm, délicieus]\n",
            "4      Je mange une orange fraîche.       [mang, orang, fraîch]\n"
          ]
        }
      ]
    },
    {
      "cell_type": "markdown",
      "source": [
        "Au finale notre dataframe contiendra les colonnes originales et les nouvelles colonnes."
      ],
      "metadata": {
        "id": "R99AgStVYNi5"
      }
    },
    {
      "cell_type": "markdown",
      "source": [
        "#Partie 2 : CountVectorizer"
      ],
      "metadata": {
        "id": "ikE315OSYHky"
      }
    },
    {
      "cell_type": "code",
      "source": [
        "# Représentation vectorielle par comptage\n",
        "from sklearn.feature_extraction.text import CountVectorizer"
      ],
      "metadata": {
        "id": "u6iMUN58YHBD"
      },
      "execution_count": 88,
      "outputs": []
    },
    {
      "cell_type": "code",
      "source": [
        "df['t_s_p'] = df['t_s_p'].apply(' '.join)\n",
        "# Initialiser le CountVectorizer\n",
        "vect = CountVectorizer()\n",
        "# Adapter le modèle et transformer les données\n",
        "X_vect = vect.fit_transform(df['t_s_p'])\n"
      ],
      "metadata": {
        "id": "c10Pjv5NaS-2"
      },
      "execution_count": 89,
      "outputs": []
    },
    {
      "cell_type": "code",
      "source": [
        "print(X_vect)"
      ],
      "metadata": {
        "colab": {
          "base_uri": "https://localhost:8080/"
        },
        "id": "PTDStMeVbJZq",
        "outputId": "89e4d752-8d5d-4392-ff14-e2c7c84e1ee2"
      },
      "execution_count": 90,
      "outputs": [
        {
          "output_type": "stream",
          "name": "stdout",
          "text": [
            "  (0, 1)\t1\n",
            "  (0, 4)\t1\n",
            "  (0, 14)\t1\n",
            "  (1, 11)\t1\n",
            "  (1, 0)\t1\n",
            "  (1, 10)\t1\n",
            "  (2, 2)\t1\n",
            "  (2, 3)\t1\n",
            "  (2, 7)\t1\n",
            "  (3, 9)\t1\n",
            "  (3, 13)\t1\n",
            "  (3, 5)\t1\n",
            "  (4, 8)\t1\n",
            "  (4, 12)\t1\n",
            "  (4, 6)\t1\n"
          ]
        }
      ]
    },
    {
      "cell_type": "code",
      "source": [
        "print(df)"
      ],
      "metadata": {
        "colab": {
          "base_uri": "https://localhost:8080/"
        },
        "id": "atrwznh9bJcI",
        "outputId": "2a2122a0-0e42-4308-ff81-8e172281f5bc"
      },
      "execution_count": 91,
      "outputs": [
        {
          "output_type": "stream",
          "name": "stdout",
          "text": [
            "                              Texte                   t_s_p\n",
            "0        Le chat dort sur le tapis.          chat dort tapi\n",
            "1    Les oiseaux chantent le matin.  oiseaux chantent matin\n",
            "2    Le chien court dans le jardin.      chien court jardin\n",
            "3  Mangeons des pommes délicieuses.  mangeon pomm délicieus\n",
            "4      Je mange une orange fraîche.       mang orang fraîch\n"
          ]
        }
      ]
    },
    {
      "cell_type": "code",
      "source": [
        "import sklearn\n",
        "print(vect.get_feature_names_out())"
      ],
      "metadata": {
        "colab": {
          "base_uri": "https://localhost:8080/"
        },
        "id": "OnJDlw8sc1vr",
        "outputId": "9dbfef8b-ff20-4061-f8a6-bdf13f21494e"
      },
      "execution_count": 92,
      "outputs": [
        {
          "output_type": "stream",
          "name": "stdout",
          "text": [
            "['chantent' 'chat' 'chien' 'court' 'dort' 'délicieus' 'fraîch' 'jardin'\n",
            " 'mang' 'mangeon' 'matin' 'oiseaux' 'orang' 'pomm' 'tapi']\n"
          ]
        }
      ]
    },
    {
      "cell_type": "code",
      "source": [
        "# Afficher la matrice sous forme dense\n",
        "print(X_vect.todense())\n"
      ],
      "metadata": {
        "colab": {
          "base_uri": "https://localhost:8080/"
        },
        "id": "KWxoKMx-cYL1",
        "outputId": "44c03d3c-b471-4f02-c383-5a20067ead2d"
      },
      "execution_count": 93,
      "outputs": [
        {
          "output_type": "stream",
          "name": "stdout",
          "text": [
            "[[0 1 0 0 1 0 0 0 0 0 0 0 0 0 1]\n",
            " [1 0 0 0 0 0 0 0 0 0 1 1 0 0 0]\n",
            " [0 0 1 1 0 0 0 1 0 0 0 0 0 0 0]\n",
            " [0 0 0 0 0 1 0 0 0 1 0 0 0 1 0]\n",
            " [0 0 0 0 0 0 1 0 1 0 0 0 1 0 0]]\n"
          ]
        }
      ]
    },
    {
      "cell_type": "code",
      "source": [
        "vect_binary = CountVectorizer(binary=True)\n",
        "X_vect_binary = vect_binary.fit_transform(df['t_s_p'])\n",
        "# Afficher la matrice binaire\n",
        "print(X_vect_binary.todense())\n"
      ],
      "metadata": {
        "colab": {
          "base_uri": "https://localhost:8080/"
        },
        "id": "wMVSaKj2cit7",
        "outputId": "2d842683-4e7b-487d-a02e-4241c1919638"
      },
      "execution_count": 94,
      "outputs": [
        {
          "output_type": "stream",
          "name": "stdout",
          "text": [
            "[[0 1 0 0 1 0 0 0 0 0 0 0 0 0 1]\n",
            " [1 0 0 0 0 0 0 0 0 0 1 1 0 0 0]\n",
            " [0 0 1 1 0 0 0 1 0 0 0 0 0 0 0]\n",
            " [0 0 0 0 0 1 0 0 0 1 0 0 0 1 0]\n",
            " [0 0 0 0 0 0 1 0 1 0 0 0 1 0 0]]\n"
          ]
        }
      ]
    },
    {
      "cell_type": "markdown",
      "source": [
        "# Partie 3 : TfidfVectorizer"
      ],
      "metadata": {
        "id": "9s_KzShzdA31"
      }
    },
    {
      "cell_type": "code",
      "source": [
        "from sklearn.feature_extraction.text import TfidfVectorizer\n",
        "tfidf_vect = TfidfVectorizer()\n",
        "tfidf_vect.fit(df['t_s_p'])\n",
        "X_tfidf = tfidf_vect.transform(df['t_s_p'])\n"
      ],
      "metadata": {
        "id": "eA5YmPp7c90h"
      },
      "execution_count": 95,
      "outputs": []
    },
    {
      "cell_type": "code",
      "source": [
        "print(X_tfidf)"
      ],
      "metadata": {
        "colab": {
          "base_uri": "https://localhost:8080/"
        },
        "id": "WfthbQ6sk1Xk",
        "outputId": "36dcec17-f068-4c46-aba5-56efb9be78ec"
      },
      "execution_count": 96,
      "outputs": [
        {
          "output_type": "stream",
          "name": "stdout",
          "text": [
            "  (0, 14)\t0.5773502691896258\n",
            "  (0, 4)\t0.5773502691896258\n",
            "  (0, 1)\t0.5773502691896258\n",
            "  (1, 11)\t0.5773502691896258\n",
            "  (1, 10)\t0.5773502691896258\n",
            "  (1, 0)\t0.5773502691896258\n",
            "  (2, 7)\t0.5773502691896258\n",
            "  (2, 3)\t0.5773502691896258\n",
            "  (2, 2)\t0.5773502691896258\n",
            "  (3, 13)\t0.5773502691896258\n",
            "  (3, 9)\t0.5773502691896258\n",
            "  (3, 5)\t0.5773502691896258\n",
            "  (4, 12)\t0.5773502691896258\n",
            "  (4, 8)\t0.5773502691896258\n",
            "  (4, 6)\t0.5773502691896258\n"
          ]
        }
      ]
    },
    {
      "cell_type": "code",
      "source": [
        "# Affichage du vocabulaire\n",
        "print(tfidf_vect.get_feature_names_out())\n",
        "\n",
        "# Affichage de la matrice sous forme dense\n",
        "print(X_tfidf.todense())\n"
      ],
      "metadata": {
        "colab": {
          "base_uri": "https://localhost:8080/"
        },
        "id": "pAwqpBGZkrj-",
        "outputId": "d4544028-e5ed-4a2a-9d74-40ebe6b14b78"
      },
      "execution_count": 97,
      "outputs": [
        {
          "output_type": "stream",
          "name": "stdout",
          "text": [
            "['chantent' 'chat' 'chien' 'court' 'dort' 'délicieus' 'fraîch' 'jardin'\n",
            " 'mang' 'mangeon' 'matin' 'oiseaux' 'orang' 'pomm' 'tapi']\n",
            "[[0.         0.57735027 0.         0.         0.57735027 0.\n",
            "  0.         0.         0.         0.         0.         0.\n",
            "  0.         0.         0.57735027]\n",
            " [0.57735027 0.         0.         0.         0.         0.\n",
            "  0.         0.         0.         0.         0.57735027 0.57735027\n",
            "  0.         0.         0.        ]\n",
            " [0.         0.         0.57735027 0.57735027 0.         0.\n",
            "  0.         0.57735027 0.         0.         0.         0.\n",
            "  0.         0.         0.        ]\n",
            " [0.         0.         0.         0.         0.         0.57735027\n",
            "  0.         0.         0.         0.57735027 0.         0.\n",
            "  0.         0.57735027 0.        ]\n",
            " [0.         0.         0.         0.         0.         0.\n",
            "  0.57735027 0.         0.57735027 0.         0.         0.\n",
            "  0.57735027 0.         0.        ]]\n"
          ]
        }
      ]
    },
    {
      "cell_type": "code",
      "source": [
        "from sklearn.metrics.pairwise import cosine_similarity\n",
        "import numpy as np\n",
        "# Représentation vectorielle des mots \"chat\" et \"chien\"\n",
        "chat_vector = np.asarray(tfidf_vect.transform(['chat']).todense())\n",
        "chien_vector = np.asarray(tfidf_vect.transform(['chien']).todense())\n",
        "\n",
        "# Similarité cosinus entre \"chat\" et \"chien\"\n",
        "similarity_chat_chien = cosine_similarity(chat_vector, chien_vector)\n",
        "\n",
        "# Représentation vectorielle des mots \"pomme\" et \"orange\"\n",
        "pomme_vector = np.asarray(tfidf_vect.transform(['pomme']).todense())\n",
        "orange_vector = np.asarray(tfidf_vect.transform(['orange']).todense())\n",
        "\n",
        "# Similarité cosinus entre \"pomme\" et \"orange\"\n",
        "similarity_pomme_orange = cosine_similarity(pomme_vector, orange_vector)\n",
        "\n",
        "print(f'Similarité entre \"chat\" et \"chien\": {similarity_chat_chien[0][0]}')\n",
        "print(f'Similarité entre \"pomme\" et \"orange\": {similarity_pomme_orange[0][0]}')\n"
      ],
      "metadata": {
        "colab": {
          "base_uri": "https://localhost:8080/"
        },
        "id": "rMaw6e9Sn44N",
        "outputId": "5145bc82-2768-411e-f988-c5a16d2ecf06"
      },
      "execution_count": 98,
      "outputs": [
        {
          "output_type": "stream",
          "name": "stdout",
          "text": [
            "Similarité entre \"chat\" et \"chien\": 0.0\n",
            "Similarité entre \"pomme\" et \"orange\": 0.0\n"
          ]
        }
      ]
    }
  ]
}
