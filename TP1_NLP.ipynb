{
  "nbformat": 4,
  "nbformat_minor": 0,
  "metadata": {
    "colab": {
      "provenance": [],
      "authorship_tag": "ABX9TyMMRcgiuRTmvEchOYg7JzX5",
      "include_colab_link": true
    },
    "kernelspec": {
      "name": "python3",
      "display_name": "Python 3"
    },
    "language_info": {
      "name": "python"
    }
  },
  "cells": [
    {
      "cell_type": "markdown",
      "metadata": {
        "id": "view-in-github",
        "colab_type": "text"
      },
      "source": [
        "<a href=\"https://colab.research.google.com/github/Wahiba275/TP1-NLP/blob/main/TP1_NLP.ipynb\" target=\"_parent\"><img src=\"https://colab.research.google.com/assets/colab-badge.svg\" alt=\"Open In Colab\"/></a>"
      ]
    },
    {
      "cell_type": "markdown",
      "source": [
        "#  **Natural Language Processing**"
      ],
      "metadata": {
        "id": "1VdX-jXCJV04"
      }
    },
    {
      "cell_type": "markdown",
      "source": [
        "# Partie 1 : Pré-traitement de texte"
      ],
      "metadata": {
        "id": "Cvaoe5SDLx73"
      }
    },
    {
      "cell_type": "code",
      "execution_count": 76,
      "metadata": {
        "colab": {
          "base_uri": "https://localhost:8080/"
        },
        "id": "v2r9G1UrIGCV",
        "outputId": "252a60a9-d9a0-4fe3-d2a5-a723b2bef23e"
      },
      "outputs": [
        {
          "output_type": "stream",
          "name": "stdout",
          "text": [
            "Le chat dort sur le tapis.\n",
            "Les oiseaux chantent le matin.\n",
            "Le chien court dans le jardin.\n",
            "Mangeons des pommes délicieuses.\n",
            "Je mange une orange fraîche.\n"
          ]
        }
      ],
      "source": [
        "corpus = [\n",
        "    \"Le chat dort sur le tapis.\",\n",
        "    \"Les oiseaux chantent le matin.\",\n",
        "    \"Le chien court dans le jardin.\",\n",
        "    \"Mangeons des pommes délicieuses.\",\n",
        "    \"Je mange une orange fraîche.\"\n",
        "]\n",
        "for phrase in corpus:\n",
        "    print(phrase)"
      ]
    },
    {
      "cell_type": "code",
      "source": [
        "import pandas as pd\n",
        "df = pd.DataFrame(corpus, columns=['Texte'])\n",
        "print(df)"
      ],
      "metadata": {
        "colab": {
          "base_uri": "https://localhost:8080/"
        },
        "id": "ws9MzLGgMgMG",
        "outputId": "580d50ac-3584-4489-dafa-68005a3b7e0d"
      },
      "execution_count": 77,
      "outputs": [
        {
          "output_type": "stream",
          "name": "stdout",
          "text": [
            "                              Texte\n",
            "0        Le chat dort sur le tapis.\n",
            "1    Les oiseaux chantent le matin.\n",
            "2    Le chien court dans le jardin.\n",
            "3  Mangeons des pommes délicieuses.\n",
            "4      Je mange une orange fraîche.\n"
          ]
        }
      ]
    },
    {
      "cell_type": "markdown",
      "source": [
        " Les approches courantes pour le prétraitement d'un corpus de textes:\n",
        "\n",
        "\n",
        "1. **Tokenization**: Il s'agit de diviser un texte en unités plus petites, généralement des mots ou des phrases. Il Permet de travailler avec des unités de texte individuelles, facilitant ainsi l'analyse et la manipulation.\n",
        "2. **Stemming**: Processus par lequel les mots sont réduits à leur forme de base ou racine. Il facilite la généralisation et la comparaison.\n",
        "3. **Lemmatisation**: Semblable au stemming, mais utilise une approche basée sur le dictionnaire pour réduire les mots à leur forme canonique. Il offre une normalisation plus précise que le stemming.\n",
        "4. **Stop-words**: Il s'agit de supprimer les mots courants qui sont généralement considérés comme non pertinents pour l'analyse, tels que \"et\", \"le\", \"à\", etc. Il Réduit la dimensionnalité du texte et met l'accent sur les mots pertinents.\n",
        "\n"
      ],
      "metadata": {
        "id": "D9fvxocDN_zL"
      }
    },
    {
      "cell_type": "code",
      "source": [
        "import string\n",
        "print (string.punctuation )\n",
        "def code ( texte ) :\n",
        "    text_s_pon = [ c for c in texte if c not in string.punctuation ]\n",
        "    return text_s_pon"
      ],
      "metadata": {
        "colab": {
          "base_uri": "https://localhost:8080/"
        },
        "id": "ZdxFibueO9_H",
        "outputId": "5184e9eb-bb02-4939-fb44-86a6656be488"
      },
      "execution_count": 78,
      "outputs": [
        {
          "output_type": "stream",
          "name": "stdout",
          "text": [
            "!\"#$%&'()*+,-./:;<=>?@[\\]^_`{|}~\n"
          ]
        }
      ]
    },
    {
      "cell_type": "markdown",
      "source": [
        "Le code ci-dessus utilise le module `string` pour identifier et supprimer tous les signes de ponctuation d'un texte donné. La fonction `code` prend une chaîne en entrée et renvoie une liste de caractères, excluant tout signe de ponctuation rencontré."
      ],
      "metadata": {
        "id": "BYqXhF3WRJMl"
      }
    },
    {
      "cell_type": "code",
      "source": [
        "#Il faut modifier la fonction code pour ajouter un colonne à notre corpus\n",
        "def code(texte):\n",
        "    return ''.join([c for c in texte if c not in string.punctuation])\n",
        "df['t_s_p'] = df['Texte'].apply(code)\n",
        "print(df)"
      ],
      "metadata": {
        "colab": {
          "base_uri": "https://localhost:8080/"
        },
        "id": "wdwygT7aRFtg",
        "outputId": "b0606706-6f3f-4f49-ccfe-7cff2929062a"
      },
      "execution_count": 79,
      "outputs": [
        {
          "output_type": "stream",
          "name": "stdout",
          "text": [
            "                              Texte                            t_s_p\n",
            "0        Le chat dort sur le tapis.        Le chat dort sur le tapis\n",
            "1    Les oiseaux chantent le matin.    Les oiseaux chantent le matin\n",
            "2    Le chien court dans le jardin.    Le chien court dans le jardin\n",
            "3  Mangeons des pommes délicieuses.  Mangeons des pommes délicieuses\n",
            "4      Je mange une orange fraîche.      Je mange une orange fraîche\n"
          ]
        }
      ]
    },
    {
      "cell_type": "code",
      "source": [
        "!pip install nltk"
      ],
      "metadata": {
        "colab": {
          "base_uri": "https://localhost:8080/"
        },
        "id": "rh3p4NIHUH3S",
        "outputId": "8f5f5bff-025a-4d56-cdb9-625001f35d98"
      },
      "execution_count": 80,
      "outputs": [
        {
          "output_type": "stream",
          "name": "stdout",
          "text": [
            "Requirement already satisfied: nltk in /usr/local/lib/python3.10/dist-packages (3.8.1)\n",
            "Requirement already satisfied: click in /usr/local/lib/python3.10/dist-packages (from nltk) (8.1.7)\n",
            "Requirement already satisfied: joblib in /usr/local/lib/python3.10/dist-packages (from nltk) (1.3.2)\n",
            "Requirement already satisfied: regex>=2021.8.3 in /usr/local/lib/python3.10/dist-packages (from nltk) (2023.6.3)\n",
            "Requirement already satisfied: tqdm in /usr/local/lib/python3.10/dist-packages (from nltk) (4.66.1)\n"
          ]
        }
      ]
    },
    {
      "cell_type": "code",
      "source": [
        "from nltk.tokenize import word_tokenize\n",
        "import nltk\n",
        "nltk.download('punkt')\n",
        "nltk.download('wordnet')\n",
        "nltk.download('omw-1.4')\n",
        "nltk.download('stopwords')\n",
        "def tokenize(text):\n",
        "    return word_tokenize(text)\n",
        "df['t_s_p'] = df['t_s_p'].apply(tokenize)"
      ],
      "metadata": {
        "colab": {
          "base_uri": "https://localhost:8080/"
        },
        "id": "o-ljEedGUH-b",
        "outputId": "9b9681a9-ef2e-4432-f4af-e9a422526bda"
      },
      "execution_count": 81,
      "outputs": [
        {
          "output_type": "stream",
          "name": "stderr",
          "text": [
            "[nltk_data] Downloading package punkt to /root/nltk_data...\n",
            "[nltk_data]   Package punkt is already up-to-date!\n",
            "[nltk_data] Downloading package wordnet to /root/nltk_data...\n",
            "[nltk_data]   Package wordnet is already up-to-date!\n",
            "[nltk_data] Downloading package omw-1.4 to /root/nltk_data...\n",
            "[nltk_data]   Package omw-1.4 is already up-to-date!\n",
            "[nltk_data] Downloading package stopwords to /root/nltk_data...\n",
            "[nltk_data]   Package stopwords is already up-to-date!\n"
          ]
        }
      ]
    },
    {
      "cell_type": "code",
      "source": [
        "print(df)"
      ],
      "metadata": {
        "colab": {
          "base_uri": "https://localhost:8080/"
        },
        "id": "D9qIgfA4UIAK",
        "outputId": "a53eaa85-fa34-4b1a-c962-80dcbf084f22"
      },
      "execution_count": 82,
      "outputs": [
        {
          "output_type": "stream",
          "name": "stdout",
          "text": [
            "                              Texte                                 t_s_p\n",
            "0        Le chat dort sur le tapis.      [Le, chat, dort, sur, le, tapis]\n",
            "1    Les oiseaux chantent le matin.   [Les, oiseaux, chantent, le, matin]\n",
            "2    Le chien court dans le jardin.  [Le, chien, court, dans, le, jardin]\n",
            "3  Mangeons des pommes délicieuses.  [Mangeons, des, pommes, délicieuses]\n",
            "4      Je mange une orange fraîche.     [Je, mange, une, orange, fraîche]\n"
          ]
        }
      ]
    },
    {
      "cell_type": "code",
      "source": [
        "from nltk.corpus import stopwords\n",
        "def remove_stopwords(tokens):\n",
        "    stop_words = set(stopwords.words('french'))\n",
        "    return [token for token in tokens if token.lower() not in stop_words]\n",
        "df['t_s_p'] = df['t_s_p'].apply(remove_stopwords)\n",
        "print(df)"
      ],
      "metadata": {
        "colab": {
          "base_uri": "https://localhost:8080/"
        },
        "id": "Rz8wd1m0UIDP",
        "outputId": "a812e1df-894e-455b-c5a8-3cd57bca42d7"
      },
      "execution_count": 83,
      "outputs": [
        {
          "output_type": "stream",
          "name": "stdout",
          "text": [
            "                              Texte                            t_s_p\n",
            "0        Le chat dort sur le tapis.              [chat, dort, tapis]\n",
            "1    Les oiseaux chantent le matin.       [oiseaux, chantent, matin]\n",
            "2    Le chien court dans le jardin.           [chien, court, jardin]\n",
            "3  Mangeons des pommes délicieuses.  [Mangeons, pommes, délicieuses]\n",
            "4      Je mange une orange fraîche.         [mange, orange, fraîche]\n"
          ]
        }
      ]
    },
    {
      "cell_type": "code",
      "source": [
        "from nltk.stem import WordNetLemmatizer, PorterStemmer\n",
        "lemmatizer = WordNetLemmatizer()\n",
        "stemmer = PorterStemmer()\n",
        "\n",
        "def lemmatize_and_stem(tokens):\n",
        "    lemmatized = [lemmatizer.lemmatize(token) for token in tokens]\n",
        "    stemmed = [stemmer.stem(token) for token in lemmatized]\n",
        "    return stemmed\n",
        "df['t_s_p'] = df['t_s_p'].apply(lemmatize_and_stem)\n",
        "print(df)"
      ],
      "metadata": {
        "colab": {
          "base_uri": "https://localhost:8080/"
        },
        "id": "GsKTATHLUIGH",
        "outputId": "a06f1976-ed7f-4788-8be1-2822ce167a56"
      },
      "execution_count": 84,
      "outputs": [
        {
          "output_type": "stream",
          "name": "stdout",
          "text": [
            "                              Texte                       t_s_p\n",
            "0        Le chat dort sur le tapis.          [chat, dort, tapi]\n",
            "1    Les oiseaux chantent le matin.  [oiseaux, chantent, matin]\n",
            "2    Le chien court dans le jardin.      [chien, court, jardin]\n",
            "3  Mangeons des pommes délicieuses.  [mangeon, pomm, délicieus]\n",
            "4      Je mange une orange fraîche.       [mang, orang, fraîch]\n"
          ]
        }
      ]
    },
    {
      "cell_type": "markdown",
      "source": [
        "Au finale notre dataframe contiendra les colonnes originales et les nouvelles colonnes."
      ],
      "metadata": {
        "id": "R99AgStVYNi5"
      }
    },
    {
      "cell_type": "markdown",
      "source": [
        "#Partie 2 : CountVectorizer"
      ],
      "metadata": {
        "id": "ikE315OSYHky"
      }
    },
    {
      "cell_type": "code",
      "source": [
        "# Représentation vectorielle par comptage\n",
        "from sklearn.feature_extraction.text import CountVectorizer"
      ],
      "metadata": {
        "id": "u6iMUN58YHBD"
      },
      "execution_count": 85,
      "outputs": []
    },
    {
      "cell_type": "code",
      "source": [
        "df['t_s_p'] = df['t_s_p'].apply(' '.join)\n",
        "# Initialiser le CountVectorizer\n",
        "vect = CountVectorizer()\n",
        "# Adapter le modèle et transformer les données\n",
        "X_vect = vect.fit_transform(df['t_s_p'])\n"
      ],
      "metadata": {
        "id": "c10Pjv5NaS-2"
      },
      "execution_count": 86,
      "outputs": []
    },
    {
      "cell_type": "code",
      "source": [
        "print(X_vect)"
      ],
      "metadata": {
        "colab": {
          "base_uri": "https://localhost:8080/"
        },
        "id": "PTDStMeVbJZq",
        "outputId": "bc4ebf1f-bc92-4a28-a065-5cd30c57adb8"
      },
      "execution_count": 87,
      "outputs": [
        {
          "output_type": "stream",
          "name": "stdout",
          "text": [
            "  (0, 1)\t1\n",
            "  (0, 4)\t1\n",
            "  (0, 14)\t1\n",
            "  (1, 11)\t1\n",
            "  (1, 0)\t1\n",
            "  (1, 10)\t1\n",
            "  (2, 2)\t1\n",
            "  (2, 3)\t1\n",
            "  (2, 7)\t1\n",
            "  (3, 9)\t1\n",
            "  (3, 13)\t1\n",
            "  (3, 5)\t1\n",
            "  (4, 8)\t1\n",
            "  (4, 12)\t1\n",
            "  (4, 6)\t1\n"
          ]
        }
      ]
    },
    {
      "cell_type": "code",
      "source": [
        "print(df)"
      ],
      "metadata": {
        "colab": {
          "base_uri": "https://localhost:8080/"
        },
        "id": "atrwznh9bJcI",
        "outputId": "984c619a-c4a8-48b7-ad22-e29d67a89c3d"
      },
      "execution_count": 88,
      "outputs": [
        {
          "output_type": "stream",
          "name": "stdout",
          "text": [
            "                              Texte                   t_s_p\n",
            "0        Le chat dort sur le tapis.          chat dort tapi\n",
            "1    Les oiseaux chantent le matin.  oiseaux chantent matin\n",
            "2    Le chien court dans le jardin.      chien court jardin\n",
            "3  Mangeons des pommes délicieuses.  mangeon pomm délicieus\n",
            "4      Je mange une orange fraîche.       mang orang fraîch\n"
          ]
        }
      ]
    },
    {
      "cell_type": "code",
      "source": [
        "import sklearn\n",
        "print(vect.get_feature_names_out())"
      ],
      "metadata": {
        "colab": {
          "base_uri": "https://localhost:8080/"
        },
        "id": "OnJDlw8sc1vr",
        "outputId": "8b3162e2-d099-49c5-928d-831281b0624b"
      },
      "execution_count": 89,
      "outputs": [
        {
          "output_type": "stream",
          "name": "stdout",
          "text": [
            "['chantent' 'chat' 'chien' 'court' 'dort' 'délicieus' 'fraîch' 'jardin'\n",
            " 'mang' 'mangeon' 'matin' 'oiseaux' 'orang' 'pomm' 'tapi']\n"
          ]
        }
      ]
    },
    {
      "cell_type": "code",
      "source": [
        "# Afficher la matrice sous forme dense\n",
        "print(X_vect.todense())\n"
      ],
      "metadata": {
        "colab": {
          "base_uri": "https://localhost:8080/"
        },
        "id": "KWxoKMx-cYL1",
        "outputId": "5d955ff3-9a4e-4f3a-e0e0-d58f36d6ecf2"
      },
      "execution_count": 90,
      "outputs": [
        {
          "output_type": "stream",
          "name": "stdout",
          "text": [
            "[[0 1 0 0 1 0 0 0 0 0 0 0 0 0 1]\n",
            " [1 0 0 0 0 0 0 0 0 0 1 1 0 0 0]\n",
            " [0 0 1 1 0 0 0 1 0 0 0 0 0 0 0]\n",
            " [0 0 0 0 0 1 0 0 0 1 0 0 0 1 0]\n",
            " [0 0 0 0 0 0 1 0 1 0 0 0 1 0 0]]\n"
          ]
        }
      ]
    },
    {
      "cell_type": "code",
      "source": [
        "vect_binary = CountVectorizer(binary=True)\n",
        "X_vect_binary = vect_binary.fit_transform(df['t_s_p'])\n",
        "# Afficher la matrice binaire\n",
        "print(X_vect_binary.todense())\n"
      ],
      "metadata": {
        "colab": {
          "base_uri": "https://localhost:8080/"
        },
        "id": "wMVSaKj2cit7",
        "outputId": "a84a7a01-0f9a-4797-e617-c5f95bd94c25"
      },
      "execution_count": 91,
      "outputs": [
        {
          "output_type": "stream",
          "name": "stdout",
          "text": [
            "[[0 1 0 0 1 0 0 0 0 0 0 0 0 0 1]\n",
            " [1 0 0 0 0 0 0 0 0 0 1 1 0 0 0]\n",
            " [0 0 1 1 0 0 0 1 0 0 0 0 0 0 0]\n",
            " [0 0 0 0 0 1 0 0 0 1 0 0 0 1 0]\n",
            " [0 0 0 0 0 0 1 0 1 0 0 0 1 0 0]]\n"
          ]
        }
      ]
    },
    {
      "cell_type": "markdown",
      "source": [
        "# Partie 3 : TfidfVectorizer"
      ],
      "metadata": {
        "id": "9s_KzShzdA31"
      }
    },
    {
      "cell_type": "code",
      "source": [
        "from sklearn.feature_extraction.text import TfidfVectorizer\n",
        "tfidf_vect = TfidfVectorizer()\n",
        "tfidf_vect.fit(df['t_s_p'])\n",
        "X_tfidf = tfidf_vect.transform(df['t_s_p'])\n"
      ],
      "metadata": {
        "id": "eA5YmPp7c90h"
      },
      "execution_count": 92,
      "outputs": []
    },
    {
      "cell_type": "code",
      "source": [
        "print(X_tfidf)"
      ],
      "metadata": {
        "colab": {
          "base_uri": "https://localhost:8080/"
        },
        "id": "WfthbQ6sk1Xk",
        "outputId": "5d48e4ee-2a1e-442a-b8bb-8c9bf02cb84f"
      },
      "execution_count": 93,
      "outputs": [
        {
          "output_type": "stream",
          "name": "stdout",
          "text": [
            "  (0, 14)\t0.5773502691896258\n",
            "  (0, 4)\t0.5773502691896258\n",
            "  (0, 1)\t0.5773502691896258\n",
            "  (1, 11)\t0.5773502691896258\n",
            "  (1, 10)\t0.5773502691896258\n",
            "  (1, 0)\t0.5773502691896258\n",
            "  (2, 7)\t0.5773502691896258\n",
            "  (2, 3)\t0.5773502691896258\n",
            "  (2, 2)\t0.5773502691896258\n",
            "  (3, 13)\t0.5773502691896258\n",
            "  (3, 9)\t0.5773502691896258\n",
            "  (3, 5)\t0.5773502691896258\n",
            "  (4, 12)\t0.5773502691896258\n",
            "  (4, 8)\t0.5773502691896258\n",
            "  (4, 6)\t0.5773502691896258\n"
          ]
        }
      ]
    },
    {
      "cell_type": "code",
      "source": [
        "# Affichage du vocabulaire\n",
        "print(tfidf_vect.get_feature_names_out())\n",
        "\n",
        "# Affichage de la matrice sous forme dense\n",
        "print(X_tfidf.todense())\n"
      ],
      "metadata": {
        "colab": {
          "base_uri": "https://localhost:8080/"
        },
        "id": "pAwqpBGZkrj-",
        "outputId": "ace4a0a8-d3ac-4dc7-c98e-d69844470a64"
      },
      "execution_count": 94,
      "outputs": [
        {
          "output_type": "stream",
          "name": "stdout",
          "text": [
            "['chantent' 'chat' 'chien' 'court' 'dort' 'délicieus' 'fraîch' 'jardin'\n",
            " 'mang' 'mangeon' 'matin' 'oiseaux' 'orang' 'pomm' 'tapi']\n",
            "[[0.         0.57735027 0.         0.         0.57735027 0.\n",
            "  0.         0.         0.         0.         0.         0.\n",
            "  0.         0.         0.57735027]\n",
            " [0.57735027 0.         0.         0.         0.         0.\n",
            "  0.         0.         0.         0.         0.57735027 0.57735027\n",
            "  0.         0.         0.        ]\n",
            " [0.         0.         0.57735027 0.57735027 0.         0.\n",
            "  0.         0.57735027 0.         0.         0.         0.\n",
            "  0.         0.         0.        ]\n",
            " [0.         0.         0.         0.         0.         0.57735027\n",
            "  0.         0.         0.         0.57735027 0.         0.\n",
            "  0.         0.57735027 0.        ]\n",
            " [0.         0.         0.         0.         0.         0.\n",
            "  0.57735027 0.         0.57735027 0.         0.         0.\n",
            "  0.57735027 0.         0.        ]]\n"
          ]
        }
      ]
    },
    {
      "cell_type": "code",
      "source": [
        "from sklearn.metrics.pairwise import cosine_similarity\n",
        "import numpy as np\n",
        "# Représentation vectorielle des mots \"chat\" et \"chien\"\n",
        "chat_vector = np.asarray(tfidf_vect.transform(['chat']).todense())\n",
        "chien_vector = np.asarray(tfidf_vect.transform(['chien']).todense())\n",
        "\n",
        "# Similarité cosinus entre \"chat\" et \"chien\"\n",
        "similarity_chat_chien = cosine_similarity(chat_vector, chien_vector)\n",
        "\n",
        "# Représentation vectorielle des mots \"pomme\" et \"orange\"\n",
        "pomme_vector = np.asarray(tfidf_vect.transform(['pomme']).todense())\n",
        "orange_vector = np.asarray(tfidf_vect.transform(['orange']).todense())\n",
        "\n",
        "# Similarité cosinus entre \"pomme\" et \"orange\"\n",
        "similarity_pomme_orange = cosine_similarity(pomme_vector, orange_vector)\n",
        "\n",
        "print(f'Similarité entre \"chat\" et \"chien\": {similarity_chat_chien[0][0]}')\n",
        "print(f'Similarité entre \"pomme\" et \"orange\": {similarity_pomme_orange[0][0]}')\n"
      ],
      "metadata": {
        "colab": {
          "base_uri": "https://localhost:8080/"
        },
        "id": "rMaw6e9Sn44N",
        "outputId": "651f4b75-ad10-4017-8d8f-6076d2339f6d"
      },
      "execution_count": 95,
      "outputs": [
        {
          "output_type": "stream",
          "name": "stdout",
          "text": [
            "Similarité entre \"chat\" et \"chien\": 0.0\n",
            "Similarité entre \"pomme\" et \"orange\": 0.0\n"
          ]
        }
      ]
    },
    {
      "cell_type": "code",
      "source": [
        "import pandas as pd"
      ],
      "metadata": {
        "id": "kJCtNTvf6ZgE"
      },
      "execution_count": 96,
      "outputs": []
    },
    {
      "cell_type": "code",
      "source": [
        "data = pd.read_csv(\"Youtube02-KatyPerry.csv\")\n",
        "data.head(2)"
      ],
      "metadata": {
        "colab": {
          "base_uri": "https://localhost:8080/",
          "height": 112
        },
        "id": "B2bFTHXb6lJH",
        "outputId": "c7151eed-4b86-4cf2-9dad-9b20706cc3b6"
      },
      "execution_count": 97,
      "outputs": [
        {
          "output_type": "execute_result",
          "data": {
            "text/plain": [
              "                            COMMENT_ID       AUTHOR                 DATE  \\\n",
              "0    z12pgdhovmrktzm3i23es5d5junftft3f  lekanaVEVO1  2014-07-22T15:27:50   \n",
              "1  z13yx345uxepetggz04ci5rjcxeohzlrtf4     Pyunghee  2014-07-27T01:57:16   \n",
              "\n",
              "                                             CONTENT  CLASS  \n",
              "0  i love this so much. AND also I Generate Free ...      1  \n",
              "1  http://www.billboard.com/articles/columns/pop-...      1  "
            ],
            "text/html": [
              "\n",
              "  <div id=\"df-129316cb-e4c9-4788-afcb-64db6a9036e7\" class=\"colab-df-container\">\n",
              "    <div>\n",
              "<style scoped>\n",
              "    .dataframe tbody tr th:only-of-type {\n",
              "        vertical-align: middle;\n",
              "    }\n",
              "\n",
              "    .dataframe tbody tr th {\n",
              "        vertical-align: top;\n",
              "    }\n",
              "\n",
              "    .dataframe thead th {\n",
              "        text-align: right;\n",
              "    }\n",
              "</style>\n",
              "<table border=\"1\" class=\"dataframe\">\n",
              "  <thead>\n",
              "    <tr style=\"text-align: right;\">\n",
              "      <th></th>\n",
              "      <th>COMMENT_ID</th>\n",
              "      <th>AUTHOR</th>\n",
              "      <th>DATE</th>\n",
              "      <th>CONTENT</th>\n",
              "      <th>CLASS</th>\n",
              "    </tr>\n",
              "  </thead>\n",
              "  <tbody>\n",
              "    <tr>\n",
              "      <th>0</th>\n",
              "      <td>z12pgdhovmrktzm3i23es5d5junftft3f</td>\n",
              "      <td>lekanaVEVO1</td>\n",
              "      <td>2014-07-22T15:27:50</td>\n",
              "      <td>i love this so much. AND also I Generate Free ...</td>\n",
              "      <td>1</td>\n",
              "    </tr>\n",
              "    <tr>\n",
              "      <th>1</th>\n",
              "      <td>z13yx345uxepetggz04ci5rjcxeohzlrtf4</td>\n",
              "      <td>Pyunghee</td>\n",
              "      <td>2014-07-27T01:57:16</td>\n",
              "      <td>http://www.billboard.com/articles/columns/pop-...</td>\n",
              "      <td>1</td>\n",
              "    </tr>\n",
              "  </tbody>\n",
              "</table>\n",
              "</div>\n",
              "    <div class=\"colab-df-buttons\">\n",
              "\n",
              "  <div class=\"colab-df-container\">\n",
              "    <button class=\"colab-df-convert\" onclick=\"convertToInteractive('df-129316cb-e4c9-4788-afcb-64db6a9036e7')\"\n",
              "            title=\"Convert this dataframe to an interactive table.\"\n",
              "            style=\"display:none;\">\n",
              "\n",
              "  <svg xmlns=\"http://www.w3.org/2000/svg\" height=\"24px\" viewBox=\"0 -960 960 960\">\n",
              "    <path d=\"M120-120v-720h720v720H120Zm60-500h600v-160H180v160Zm220 220h160v-160H400v160Zm0 220h160v-160H400v160ZM180-400h160v-160H180v160Zm440 0h160v-160H620v160ZM180-180h160v-160H180v160Zm440 0h160v-160H620v160Z\"/>\n",
              "  </svg>\n",
              "    </button>\n",
              "\n",
              "  <style>\n",
              "    .colab-df-container {\n",
              "      display:flex;\n",
              "      gap: 12px;\n",
              "    }\n",
              "\n",
              "    .colab-df-convert {\n",
              "      background-color: #E8F0FE;\n",
              "      border: none;\n",
              "      border-radius: 50%;\n",
              "      cursor: pointer;\n",
              "      display: none;\n",
              "      fill: #1967D2;\n",
              "      height: 32px;\n",
              "      padding: 0 0 0 0;\n",
              "      width: 32px;\n",
              "    }\n",
              "\n",
              "    .colab-df-convert:hover {\n",
              "      background-color: #E2EBFA;\n",
              "      box-shadow: 0px 1px 2px rgba(60, 64, 67, 0.3), 0px 1px 3px 1px rgba(60, 64, 67, 0.15);\n",
              "      fill: #174EA6;\n",
              "    }\n",
              "\n",
              "    .colab-df-buttons div {\n",
              "      margin-bottom: 4px;\n",
              "    }\n",
              "\n",
              "    [theme=dark] .colab-df-convert {\n",
              "      background-color: #3B4455;\n",
              "      fill: #D2E3FC;\n",
              "    }\n",
              "\n",
              "    [theme=dark] .colab-df-convert:hover {\n",
              "      background-color: #434B5C;\n",
              "      box-shadow: 0px 1px 3px 1px rgba(0, 0, 0, 0.15);\n",
              "      filter: drop-shadow(0px 1px 2px rgba(0, 0, 0, 0.3));\n",
              "      fill: #FFFFFF;\n",
              "    }\n",
              "  </style>\n",
              "\n",
              "    <script>\n",
              "      const buttonEl =\n",
              "        document.querySelector('#df-129316cb-e4c9-4788-afcb-64db6a9036e7 button.colab-df-convert');\n",
              "      buttonEl.style.display =\n",
              "        google.colab.kernel.accessAllowed ? 'block' : 'none';\n",
              "\n",
              "      async function convertToInteractive(key) {\n",
              "        const element = document.querySelector('#df-129316cb-e4c9-4788-afcb-64db6a9036e7');\n",
              "        const dataTable =\n",
              "          await google.colab.kernel.invokeFunction('convertToInteractive',\n",
              "                                                    [key], {});\n",
              "        if (!dataTable) return;\n",
              "\n",
              "        const docLinkHtml = 'Like what you see? Visit the ' +\n",
              "          '<a target=\"_blank\" href=https://colab.research.google.com/notebooks/data_table.ipynb>data table notebook</a>'\n",
              "          + ' to learn more about interactive tables.';\n",
              "        element.innerHTML = '';\n",
              "        dataTable['output_type'] = 'display_data';\n",
              "        await google.colab.output.renderOutput(dataTable, element);\n",
              "        const docLink = document.createElement('div');\n",
              "        docLink.innerHTML = docLinkHtml;\n",
              "        element.appendChild(docLink);\n",
              "      }\n",
              "    </script>\n",
              "  </div>\n",
              "\n",
              "\n",
              "<div id=\"df-66218185-c797-4aef-89ec-c96c3c7843fa\">\n",
              "  <button class=\"colab-df-quickchart\" onclick=\"quickchart('df-66218185-c797-4aef-89ec-c96c3c7843fa')\"\n",
              "            title=\"Suggest charts\"\n",
              "            style=\"display:none;\">\n",
              "\n",
              "<svg xmlns=\"http://www.w3.org/2000/svg\" height=\"24px\"viewBox=\"0 0 24 24\"\n",
              "     width=\"24px\">\n",
              "    <g>\n",
              "        <path d=\"M19 3H5c-1.1 0-2 .9-2 2v14c0 1.1.9 2 2 2h14c1.1 0 2-.9 2-2V5c0-1.1-.9-2-2-2zM9 17H7v-7h2v7zm4 0h-2V7h2v10zm4 0h-2v-4h2v4z\"/>\n",
              "    </g>\n",
              "</svg>\n",
              "  </button>\n",
              "\n",
              "<style>\n",
              "  .colab-df-quickchart {\n",
              "      --bg-color: #E8F0FE;\n",
              "      --fill-color: #1967D2;\n",
              "      --hover-bg-color: #E2EBFA;\n",
              "      --hover-fill-color: #174EA6;\n",
              "      --disabled-fill-color: #AAA;\n",
              "      --disabled-bg-color: #DDD;\n",
              "  }\n",
              "\n",
              "  [theme=dark] .colab-df-quickchart {\n",
              "      --bg-color: #3B4455;\n",
              "      --fill-color: #D2E3FC;\n",
              "      --hover-bg-color: #434B5C;\n",
              "      --hover-fill-color: #FFFFFF;\n",
              "      --disabled-bg-color: #3B4455;\n",
              "      --disabled-fill-color: #666;\n",
              "  }\n",
              "\n",
              "  .colab-df-quickchart {\n",
              "    background-color: var(--bg-color);\n",
              "    border: none;\n",
              "    border-radius: 50%;\n",
              "    cursor: pointer;\n",
              "    display: none;\n",
              "    fill: var(--fill-color);\n",
              "    height: 32px;\n",
              "    padding: 0;\n",
              "    width: 32px;\n",
              "  }\n",
              "\n",
              "  .colab-df-quickchart:hover {\n",
              "    background-color: var(--hover-bg-color);\n",
              "    box-shadow: 0 1px 2px rgba(60, 64, 67, 0.3), 0 1px 3px 1px rgba(60, 64, 67, 0.15);\n",
              "    fill: var(--button-hover-fill-color);\n",
              "  }\n",
              "\n",
              "  .colab-df-quickchart-complete:disabled,\n",
              "  .colab-df-quickchart-complete:disabled:hover {\n",
              "    background-color: var(--disabled-bg-color);\n",
              "    fill: var(--disabled-fill-color);\n",
              "    box-shadow: none;\n",
              "  }\n",
              "\n",
              "  .colab-df-spinner {\n",
              "    border: 2px solid var(--fill-color);\n",
              "    border-color: transparent;\n",
              "    border-bottom-color: var(--fill-color);\n",
              "    animation:\n",
              "      spin 1s steps(1) infinite;\n",
              "  }\n",
              "\n",
              "  @keyframes spin {\n",
              "    0% {\n",
              "      border-color: transparent;\n",
              "      border-bottom-color: var(--fill-color);\n",
              "      border-left-color: var(--fill-color);\n",
              "    }\n",
              "    20% {\n",
              "      border-color: transparent;\n",
              "      border-left-color: var(--fill-color);\n",
              "      border-top-color: var(--fill-color);\n",
              "    }\n",
              "    30% {\n",
              "      border-color: transparent;\n",
              "      border-left-color: var(--fill-color);\n",
              "      border-top-color: var(--fill-color);\n",
              "      border-right-color: var(--fill-color);\n",
              "    }\n",
              "    40% {\n",
              "      border-color: transparent;\n",
              "      border-right-color: var(--fill-color);\n",
              "      border-top-color: var(--fill-color);\n",
              "    }\n",
              "    60% {\n",
              "      border-color: transparent;\n",
              "      border-right-color: var(--fill-color);\n",
              "    }\n",
              "    80% {\n",
              "      border-color: transparent;\n",
              "      border-right-color: var(--fill-color);\n",
              "      border-bottom-color: var(--fill-color);\n",
              "    }\n",
              "    90% {\n",
              "      border-color: transparent;\n",
              "      border-bottom-color: var(--fill-color);\n",
              "    }\n",
              "  }\n",
              "</style>\n",
              "\n",
              "  <script>\n",
              "    async function quickchart(key) {\n",
              "      const quickchartButtonEl =\n",
              "        document.querySelector('#' + key + ' button');\n",
              "      quickchartButtonEl.disabled = true;  // To prevent multiple clicks.\n",
              "      quickchartButtonEl.classList.add('colab-df-spinner');\n",
              "      try {\n",
              "        const charts = await google.colab.kernel.invokeFunction(\n",
              "            'suggestCharts', [key], {});\n",
              "      } catch (error) {\n",
              "        console.error('Error during call to suggestCharts:', error);\n",
              "      }\n",
              "      quickchartButtonEl.classList.remove('colab-df-spinner');\n",
              "      quickchartButtonEl.classList.add('colab-df-quickchart-complete');\n",
              "    }\n",
              "    (() => {\n",
              "      let quickchartButtonEl =\n",
              "        document.querySelector('#df-66218185-c797-4aef-89ec-c96c3c7843fa button');\n",
              "      quickchartButtonEl.style.display =\n",
              "        google.colab.kernel.accessAllowed ? 'block' : 'none';\n",
              "    })();\n",
              "  </script>\n",
              "</div>\n",
              "    </div>\n",
              "  </div>\n"
            ]
          },
          "metadata": {},
          "execution_count": 97
        }
      ]
    },
    {
      "cell_type": "code",
      "source": [
        "df=pd.DataFrame(data[\"CONTENT\"])\n",
        "df.head()"
      ],
      "metadata": {
        "colab": {
          "base_uri": "https://localhost:8080/",
          "height": 206
        },
        "id": "E3xGyntl6quo",
        "outputId": "00461ebf-9ed0-4b68-bc3a-e7bce175e67c"
      },
      "execution_count": 98,
      "outputs": [
        {
          "output_type": "execute_result",
          "data": {
            "text/plain": [
              "                                             CONTENT\n",
              "0  i love this so much. AND also I Generate Free ...\n",
              "1  http://www.billboard.com/articles/columns/pop-...\n",
              "2  Hey guys! Please join me in my fight to help a...\n",
              "3  http://psnboss.com/?ref=2tGgp3pV6L this is the...\n",
              "4  Hey everyone. Watch this trailer!!!!!!!!  http..."
            ],
            "text/html": [
              "\n",
              "  <div id=\"df-e6469978-c4fa-4a81-8ede-369d67cfe823\" class=\"colab-df-container\">\n",
              "    <div>\n",
              "<style scoped>\n",
              "    .dataframe tbody tr th:only-of-type {\n",
              "        vertical-align: middle;\n",
              "    }\n",
              "\n",
              "    .dataframe tbody tr th {\n",
              "        vertical-align: top;\n",
              "    }\n",
              "\n",
              "    .dataframe thead th {\n",
              "        text-align: right;\n",
              "    }\n",
              "</style>\n",
              "<table border=\"1\" class=\"dataframe\">\n",
              "  <thead>\n",
              "    <tr style=\"text-align: right;\">\n",
              "      <th></th>\n",
              "      <th>CONTENT</th>\n",
              "    </tr>\n",
              "  </thead>\n",
              "  <tbody>\n",
              "    <tr>\n",
              "      <th>0</th>\n",
              "      <td>i love this so much. AND also I Generate Free ...</td>\n",
              "    </tr>\n",
              "    <tr>\n",
              "      <th>1</th>\n",
              "      <td>http://www.billboard.com/articles/columns/pop-...</td>\n",
              "    </tr>\n",
              "    <tr>\n",
              "      <th>2</th>\n",
              "      <td>Hey guys! Please join me in my fight to help a...</td>\n",
              "    </tr>\n",
              "    <tr>\n",
              "      <th>3</th>\n",
              "      <td>http://psnboss.com/?ref=2tGgp3pV6L this is the...</td>\n",
              "    </tr>\n",
              "    <tr>\n",
              "      <th>4</th>\n",
              "      <td>Hey everyone. Watch this trailer!!!!!!!!  http...</td>\n",
              "    </tr>\n",
              "  </tbody>\n",
              "</table>\n",
              "</div>\n",
              "    <div class=\"colab-df-buttons\">\n",
              "\n",
              "  <div class=\"colab-df-container\">\n",
              "    <button class=\"colab-df-convert\" onclick=\"convertToInteractive('df-e6469978-c4fa-4a81-8ede-369d67cfe823')\"\n",
              "            title=\"Convert this dataframe to an interactive table.\"\n",
              "            style=\"display:none;\">\n",
              "\n",
              "  <svg xmlns=\"http://www.w3.org/2000/svg\" height=\"24px\" viewBox=\"0 -960 960 960\">\n",
              "    <path d=\"M120-120v-720h720v720H120Zm60-500h600v-160H180v160Zm220 220h160v-160H400v160Zm0 220h160v-160H400v160ZM180-400h160v-160H180v160Zm440 0h160v-160H620v160ZM180-180h160v-160H180v160Zm440 0h160v-160H620v160Z\"/>\n",
              "  </svg>\n",
              "    </button>\n",
              "\n",
              "  <style>\n",
              "    .colab-df-container {\n",
              "      display:flex;\n",
              "      gap: 12px;\n",
              "    }\n",
              "\n",
              "    .colab-df-convert {\n",
              "      background-color: #E8F0FE;\n",
              "      border: none;\n",
              "      border-radius: 50%;\n",
              "      cursor: pointer;\n",
              "      display: none;\n",
              "      fill: #1967D2;\n",
              "      height: 32px;\n",
              "      padding: 0 0 0 0;\n",
              "      width: 32px;\n",
              "    }\n",
              "\n",
              "    .colab-df-convert:hover {\n",
              "      background-color: #E2EBFA;\n",
              "      box-shadow: 0px 1px 2px rgba(60, 64, 67, 0.3), 0px 1px 3px 1px rgba(60, 64, 67, 0.15);\n",
              "      fill: #174EA6;\n",
              "    }\n",
              "\n",
              "    .colab-df-buttons div {\n",
              "      margin-bottom: 4px;\n",
              "    }\n",
              "\n",
              "    [theme=dark] .colab-df-convert {\n",
              "      background-color: #3B4455;\n",
              "      fill: #D2E3FC;\n",
              "    }\n",
              "\n",
              "    [theme=dark] .colab-df-convert:hover {\n",
              "      background-color: #434B5C;\n",
              "      box-shadow: 0px 1px 3px 1px rgba(0, 0, 0, 0.15);\n",
              "      filter: drop-shadow(0px 1px 2px rgba(0, 0, 0, 0.3));\n",
              "      fill: #FFFFFF;\n",
              "    }\n",
              "  </style>\n",
              "\n",
              "    <script>\n",
              "      const buttonEl =\n",
              "        document.querySelector('#df-e6469978-c4fa-4a81-8ede-369d67cfe823 button.colab-df-convert');\n",
              "      buttonEl.style.display =\n",
              "        google.colab.kernel.accessAllowed ? 'block' : 'none';\n",
              "\n",
              "      async function convertToInteractive(key) {\n",
              "        const element = document.querySelector('#df-e6469978-c4fa-4a81-8ede-369d67cfe823');\n",
              "        const dataTable =\n",
              "          await google.colab.kernel.invokeFunction('convertToInteractive',\n",
              "                                                    [key], {});\n",
              "        if (!dataTable) return;\n",
              "\n",
              "        const docLinkHtml = 'Like what you see? Visit the ' +\n",
              "          '<a target=\"_blank\" href=https://colab.research.google.com/notebooks/data_table.ipynb>data table notebook</a>'\n",
              "          + ' to learn more about interactive tables.';\n",
              "        element.innerHTML = '';\n",
              "        dataTable['output_type'] = 'display_data';\n",
              "        await google.colab.output.renderOutput(dataTable, element);\n",
              "        const docLink = document.createElement('div');\n",
              "        docLink.innerHTML = docLinkHtml;\n",
              "        element.appendChild(docLink);\n",
              "      }\n",
              "    </script>\n",
              "  </div>\n",
              "\n",
              "\n",
              "<div id=\"df-c27a584f-e20c-460a-bfa3-f1f7065d51a7\">\n",
              "  <button class=\"colab-df-quickchart\" onclick=\"quickchart('df-c27a584f-e20c-460a-bfa3-f1f7065d51a7')\"\n",
              "            title=\"Suggest charts\"\n",
              "            style=\"display:none;\">\n",
              "\n",
              "<svg xmlns=\"http://www.w3.org/2000/svg\" height=\"24px\"viewBox=\"0 0 24 24\"\n",
              "     width=\"24px\">\n",
              "    <g>\n",
              "        <path d=\"M19 3H5c-1.1 0-2 .9-2 2v14c0 1.1.9 2 2 2h14c1.1 0 2-.9 2-2V5c0-1.1-.9-2-2-2zM9 17H7v-7h2v7zm4 0h-2V7h2v10zm4 0h-2v-4h2v4z\"/>\n",
              "    </g>\n",
              "</svg>\n",
              "  </button>\n",
              "\n",
              "<style>\n",
              "  .colab-df-quickchart {\n",
              "      --bg-color: #E8F0FE;\n",
              "      --fill-color: #1967D2;\n",
              "      --hover-bg-color: #E2EBFA;\n",
              "      --hover-fill-color: #174EA6;\n",
              "      --disabled-fill-color: #AAA;\n",
              "      --disabled-bg-color: #DDD;\n",
              "  }\n",
              "\n",
              "  [theme=dark] .colab-df-quickchart {\n",
              "      --bg-color: #3B4455;\n",
              "      --fill-color: #D2E3FC;\n",
              "      --hover-bg-color: #434B5C;\n",
              "      --hover-fill-color: #FFFFFF;\n",
              "      --disabled-bg-color: #3B4455;\n",
              "      --disabled-fill-color: #666;\n",
              "  }\n",
              "\n",
              "  .colab-df-quickchart {\n",
              "    background-color: var(--bg-color);\n",
              "    border: none;\n",
              "    border-radius: 50%;\n",
              "    cursor: pointer;\n",
              "    display: none;\n",
              "    fill: var(--fill-color);\n",
              "    height: 32px;\n",
              "    padding: 0;\n",
              "    width: 32px;\n",
              "  }\n",
              "\n",
              "  .colab-df-quickchart:hover {\n",
              "    background-color: var(--hover-bg-color);\n",
              "    box-shadow: 0 1px 2px rgba(60, 64, 67, 0.3), 0 1px 3px 1px rgba(60, 64, 67, 0.15);\n",
              "    fill: var(--button-hover-fill-color);\n",
              "  }\n",
              "\n",
              "  .colab-df-quickchart-complete:disabled,\n",
              "  .colab-df-quickchart-complete:disabled:hover {\n",
              "    background-color: var(--disabled-bg-color);\n",
              "    fill: var(--disabled-fill-color);\n",
              "    box-shadow: none;\n",
              "  }\n",
              "\n",
              "  .colab-df-spinner {\n",
              "    border: 2px solid var(--fill-color);\n",
              "    border-color: transparent;\n",
              "    border-bottom-color: var(--fill-color);\n",
              "    animation:\n",
              "      spin 1s steps(1) infinite;\n",
              "  }\n",
              "\n",
              "  @keyframes spin {\n",
              "    0% {\n",
              "      border-color: transparent;\n",
              "      border-bottom-color: var(--fill-color);\n",
              "      border-left-color: var(--fill-color);\n",
              "    }\n",
              "    20% {\n",
              "      border-color: transparent;\n",
              "      border-left-color: var(--fill-color);\n",
              "      border-top-color: var(--fill-color);\n",
              "    }\n",
              "    30% {\n",
              "      border-color: transparent;\n",
              "      border-left-color: var(--fill-color);\n",
              "      border-top-color: var(--fill-color);\n",
              "      border-right-color: var(--fill-color);\n",
              "    }\n",
              "    40% {\n",
              "      border-color: transparent;\n",
              "      border-right-color: var(--fill-color);\n",
              "      border-top-color: var(--fill-color);\n",
              "    }\n",
              "    60% {\n",
              "      border-color: transparent;\n",
              "      border-right-color: var(--fill-color);\n",
              "    }\n",
              "    80% {\n",
              "      border-color: transparent;\n",
              "      border-right-color: var(--fill-color);\n",
              "      border-bottom-color: var(--fill-color);\n",
              "    }\n",
              "    90% {\n",
              "      border-color: transparent;\n",
              "      border-bottom-color: var(--fill-color);\n",
              "    }\n",
              "  }\n",
              "</style>\n",
              "\n",
              "  <script>\n",
              "    async function quickchart(key) {\n",
              "      const quickchartButtonEl =\n",
              "        document.querySelector('#' + key + ' button');\n",
              "      quickchartButtonEl.disabled = true;  // To prevent multiple clicks.\n",
              "      quickchartButtonEl.classList.add('colab-df-spinner');\n",
              "      try {\n",
              "        const charts = await google.colab.kernel.invokeFunction(\n",
              "            'suggestCharts', [key], {});\n",
              "      } catch (error) {\n",
              "        console.error('Error during call to suggestCharts:', error);\n",
              "      }\n",
              "      quickchartButtonEl.classList.remove('colab-df-spinner');\n",
              "      quickchartButtonEl.classList.add('colab-df-quickchart-complete');\n",
              "    }\n",
              "    (() => {\n",
              "      let quickchartButtonEl =\n",
              "        document.querySelector('#df-c27a584f-e20c-460a-bfa3-f1f7065d51a7 button');\n",
              "      quickchartButtonEl.style.display =\n",
              "        google.colab.kernel.accessAllowed ? 'block' : 'none';\n",
              "    })();\n",
              "  </script>\n",
              "</div>\n",
              "    </div>\n",
              "  </div>\n"
            ]
          },
          "metadata": {},
          "execution_count": 98
        }
      ]
    },
    {
      "cell_type": "code",
      "source": [
        "import re\n",
        "def nettoyer_texte(texte):\n",
        "    if isinstance(texte, str):\n",
        "        # Supprimer la ponctuation et les caractères spéciaux\n",
        "        texte = re.sub(r'[^\\w\\s]', '', texte)\n",
        "\n",
        "        # Supprimer les liens (URLs)\n",
        "        texte = re.sub(r'http\\S+', '', texte)\n",
        "\n",
        "    return texte"
      ],
      "metadata": {
        "id": "sRCekI4T-yek"
      },
      "execution_count": 99,
      "outputs": []
    },
    {
      "cell_type": "code",
      "source": [
        "df['CONTENT'] = df['CONTENT'].apply(nettoyer_texte)\n",
        "print(df)"
      ],
      "metadata": {
        "colab": {
          "base_uri": "https://localhost:8080/"
        },
        "id": "xELN3XpO-4gL",
        "outputId": "e4536ea3-3107-491e-e2f0-1cfb687051af"
      },
      "execution_count": 100,
      "outputs": [
        {
          "output_type": "stream",
          "name": "stdout",
          "text": [
            "                                               CONTENT\n",
            "0    i love this so much AND also I Generate Free L...\n",
            "1     Vote for SONES pleasewere against vipsplease ...\n",
            "2    Hey guys Please join me in my fight to help ab...\n",
            "3                                     this is the song\n",
            "4                    Hey everyone Watch this trailer  \n",
            "..                                                 ...\n",
            "345  This song means so much to me thank you  soooo...\n",
            "346                                                lt3\n",
            "347  KATY PERRY I AM THE DÉCIO CABELO DECIO HAIR I ...\n",
            "348  Honestly speaking except taylor swift and adel...\n",
            "349  who is going to reach the billion first  katy ...\n",
            "\n",
            "[350 rows x 1 columns]\n"
          ]
        }
      ]
    },
    {
      "cell_type": "code",
      "source": [
        "df['CONTENT'] = df['CONTENT'].apply(tokenize)"
      ],
      "metadata": {
        "id": "kUWui_Jl6qw1"
      },
      "execution_count": 101,
      "outputs": []
    },
    {
      "cell_type": "code",
      "source": [
        "print(df)"
      ],
      "metadata": {
        "colab": {
          "base_uri": "https://localhost:8080/"
        },
        "id": "gYvJmKae6qzw",
        "outputId": "17d2cfb3-e82f-49ac-8f21-e3e6c4ce5e1f"
      },
      "execution_count": 102,
      "outputs": [
        {
          "output_type": "stream",
          "name": "stdout",
          "text": [
            "                                               CONTENT\n",
            "0    [i, love, this, so, much, AND, also, I, Genera...\n",
            "1    [Vote, for, SONES, pleasewere, against, vipspl...\n",
            "2    [Hey, guys, Please, join, me, in, my, fight, t...\n",
            "3                                [this, is, the, song]\n",
            "4                [Hey, everyone, Watch, this, trailer]\n",
            "..                                                 ...\n",
            "345  [This, song, means, so, much, to, me, thank, y...\n",
            "346                                              [lt3]\n",
            "347  [KATY, PERRY, I, AM, THE, DÉCIO, CABELO, DECIO...\n",
            "348  [Honestly, speaking, except, taylor, swift, an...\n",
            "349  [who, is, going, to, reach, the, billion, firs...\n",
            "\n",
            "[350 rows x 1 columns]\n"
          ]
        }
      ]
    },
    {
      "cell_type": "code",
      "source": [
        "print(stopwords.words('english'))"
      ],
      "metadata": {
        "colab": {
          "base_uri": "https://localhost:8080/"
        },
        "id": "BPp279lgCBBt",
        "outputId": "7f59dff7-3685-4ab2-e4bc-c3d24ed22a42"
      },
      "execution_count": 103,
      "outputs": [
        {
          "output_type": "stream",
          "name": "stdout",
          "text": [
            "['i', 'me', 'my', 'myself', 'we', 'our', 'ours', 'ourselves', 'you', \"you're\", \"you've\", \"you'll\", \"you'd\", 'your', 'yours', 'yourself', 'yourselves', 'he', 'him', 'his', 'himself', 'she', \"she's\", 'her', 'hers', 'herself', 'it', \"it's\", 'its', 'itself', 'they', 'them', 'their', 'theirs', 'themselves', 'what', 'which', 'who', 'whom', 'this', 'that', \"that'll\", 'these', 'those', 'am', 'is', 'are', 'was', 'were', 'be', 'been', 'being', 'have', 'has', 'had', 'having', 'do', 'does', 'did', 'doing', 'a', 'an', 'the', 'and', 'but', 'if', 'or', 'because', 'as', 'until', 'while', 'of', 'at', 'by', 'for', 'with', 'about', 'against', 'between', 'into', 'through', 'during', 'before', 'after', 'above', 'below', 'to', 'from', 'up', 'down', 'in', 'out', 'on', 'off', 'over', 'under', 'again', 'further', 'then', 'once', 'here', 'there', 'when', 'where', 'why', 'how', 'all', 'any', 'both', 'each', 'few', 'more', 'most', 'other', 'some', 'such', 'no', 'nor', 'not', 'only', 'own', 'same', 'so', 'than', 'too', 'very', 's', 't', 'can', 'will', 'just', 'don', \"don't\", 'should', \"should've\", 'now', 'd', 'll', 'm', 'o', 're', 've', 'y', 'ain', 'aren', \"aren't\", 'couldn', \"couldn't\", 'didn', \"didn't\", 'doesn', \"doesn't\", 'hadn', \"hadn't\", 'hasn', \"hasn't\", 'haven', \"haven't\", 'isn', \"isn't\", 'ma', 'mightn', \"mightn't\", 'mustn', \"mustn't\", 'needn', \"needn't\", 'shan', \"shan't\", 'shouldn', \"shouldn't\", 'wasn', \"wasn't\", 'weren', \"weren't\", 'won', \"won't\", 'wouldn', \"wouldn't\"]\n"
          ]
        }
      ]
    },
    {
      "cell_type": "code",
      "source": [
        "def remove_stopwords1(text):\n",
        "    stop_words = set(stopwords.words('english'))\n",
        "    filtered_words = [word for word in text if word.lower() not in stop_words]\n",
        "    return filtered_words"
      ],
      "metadata": {
        "id": "83BH7vfVASVa"
      },
      "execution_count": 104,
      "outputs": []
    },
    {
      "cell_type": "code",
      "source": [
        "df['CONTENT'] = df['CONTENT'].apply(remove_stopwords1)\n",
        "print(df)"
      ],
      "metadata": {
        "colab": {
          "base_uri": "https://localhost:8080/"
        },
        "id": "zv6Cbv1a6q23",
        "outputId": "bcd2af0d-75c6-4809-f313-0b0a47e1cb46"
      },
      "execution_count": 105,
      "outputs": [
        {
          "output_type": "stream",
          "name": "stdout",
          "text": [
            "                                               CONTENT\n",
            "0    [love, much, also, Generate, Free, Leads, Auto...\n",
            "1    [Vote, SONES, pleasewere, vipsplease, help, us...\n",
            "2    [Hey, guys, Please, join, fight, help, abusedm...\n",
            "3                                               [song]\n",
            "4                      [Hey, everyone, Watch, trailer]\n",
            "..                                                 ...\n",
            "345  [song, means, much, thank, soooooooooooooooooo...\n",
            "346                                              [lt3]\n",
            "347  [KATY, PERRY, DÉCIO, CABELO, DECIO, HAIR, 60, ...\n",
            "348  [Honestly, speaking, except, taylor, swift, ad...\n",
            "349       [going, reach, billion, first, katy, taylor]\n",
            "\n",
            "[350 rows x 1 columns]\n"
          ]
        }
      ]
    },
    {
      "cell_type": "code",
      "source": [
        "df['CONTENT'] = df['CONTENT'].apply(lemmatize_and_stem)\n",
        "print(df)"
      ],
      "metadata": {
        "colab": {
          "base_uri": "https://localhost:8080/"
        },
        "id": "YZPz_6tN6q47",
        "outputId": "ea950351-4312-4cb3-f324-9e9b57db6503"
      },
      "execution_count": 106,
      "outputs": [
        {
          "output_type": "stream",
          "name": "stdout",
          "text": [
            "                                               CONTENT\n",
            "0    [love, much, also, gener, free, lead, auto, pi...\n",
            "1    [vote, sone, pleasewer, vipspleas, help, u, gtlt]\n",
            "2    [hey, guy, pleas, join, fight, help, abusedmis...\n",
            "3                                               [song]\n",
            "4                       [hey, everyon, watch, trailer]\n",
            "..                                                 ...\n",
            "345  [song, mean, much, thank, sooooooooooooooooooo...\n",
            "346                                              [lt3]\n",
            "347  [kati, perri, décio, cabelo, decio, hair, 60, ...\n",
            "348  [honestli, speak, except, taylor, swift, adel,...\n",
            "349          [go, reach, billion, first, kati, taylor]\n",
            "\n",
            "[350 rows x 1 columns]\n"
          ]
        }
      ]
    },
    {
      "cell_type": "code",
      "source": [
        "df['CONTENT'] = df['CONTENT'].apply(' '.join)\n",
        "# Initialiser le CountVectorizer\n",
        "vect = CountVectorizer()\n",
        "# Adapter le modèle et transformer les données\n",
        "X_vect = vect.fit_transform(df['CONTENT'])\n"
      ],
      "metadata": {
        "id": "ZrY67RBt6q7T"
      },
      "execution_count": 107,
      "outputs": []
    },
    {
      "cell_type": "code",
      "source": [
        "print(X_vect)"
      ],
      "metadata": {
        "colab": {
          "base_uri": "https://localhost:8080/"
        },
        "id": "rOQpubtv_R7L",
        "outputId": "b7f9694d-ea25-4665-d8c9-bae234f7bfb8"
      },
      "execution_count": 108,
      "outputs": [
        {
          "output_type": "stream",
          "name": "stdout",
          "text": [
            "  (0, 590)\t1\n",
            "  (0, 652)\t1\n",
            "  (0, 70)\t1\n",
            "  (0, 403)\t1\n",
            "  (0, 390)\t1\n",
            "  (0, 563)\t1\n",
            "  (0, 101)\t1\n",
            "  (0, 730)\t1\n",
            "  (0, 77)\t1\n",
            "  (1, 1033)\t1\n",
            "  (1, 876)\t1\n",
            "  (1, 739)\t1\n",
            "  (1, 1027)\t1\n",
            "  (1, 469)\t1\n",
            "  (1, 442)\t1\n",
            "  (2, 469)\t4\n",
            "  (2, 470)\t1\n",
            "  (2, 447)\t1\n",
            "  (2, 738)\t2\n",
            "  (2, 541)\t1\n",
            "  (2, 364)\t1\n",
            "  (2, 44)\t1\n",
            "  (2, 81)\t3\n",
            "  (2, 397)\t1\n",
            "  (2, 415)\t1\n",
            "  :\t:\n",
            "  (348, 856)\t1\n",
            "  (348, 465)\t1\n",
            "  (348, 290)\t1\n",
            "  (348, 515)\t1\n",
            "  (348, 818)\t1\n",
            "  (348, 360)\t1\n",
            "  (348, 482)\t1\n",
            "  (348, 944)\t1\n",
            "  (348, 935)\t1\n",
            "  (348, 634)\t1\n",
            "  (348, 892)\t1\n",
            "  (348, 333)\t1\n",
            "  (348, 54)\t1\n",
            "  (348, 576)\t1\n",
            "  (348, 640)\t1\n",
            "  (348, 656)\t1\n",
            "  (348, 1054)\t1\n",
            "  (348, 422)\t1\n",
            "  (348, 772)\t1\n",
            "  (349, 415)\t1\n",
            "  (349, 546)\t1\n",
            "  (349, 781)\t1\n",
            "  (349, 374)\t1\n",
            "  (349, 137)\t1\n",
            "  (349, 944)\t1\n"
          ]
        }
      ]
    },
    {
      "cell_type": "code",
      "source": [
        "print(df)"
      ],
      "metadata": {
        "colab": {
          "base_uri": "https://localhost:8080/"
        },
        "id": "IDT3w3jk_cTK",
        "outputId": "0b6de988-e79c-4b42-e4ef-aa856712d694"
      },
      "execution_count": 109,
      "outputs": [
        {
          "output_type": "stream",
          "name": "stdout",
          "text": [
            "                                               CONTENT\n",
            "0        love much also gener free lead auto pilot amp\n",
            "1            vote sone pleasewer vipspleas help u gtlt\n",
            "2    hey guy pleas join fight help abusedmistr anim...\n",
            "3                                                 song\n",
            "4                            hey everyon watch trailer\n",
            "..                                                 ...\n",
            "345  song mean much thank soooooooooooooooooooooooo...\n",
            "346                                                lt3\n",
            "347  kati perri décio cabelo decio hair 60 year age...\n",
            "348  honestli speak except taylor swift adel dont l...\n",
            "349                 go reach billion first kati taylor\n",
            "\n",
            "[350 rows x 1 columns]\n"
          ]
        }
      ]
    },
    {
      "cell_type": "code",
      "source": [
        "import sklearn\n",
        "print(vect.get_feature_names_out())"
      ],
      "metadata": {
        "colab": {
          "base_uri": "https://localhost:8080/"
        },
        "id": "LabCU121_dXt",
        "outputId": "405c820e-7a92-42ce-c0f8-37bc8945867c"
      },
      "execution_count": 110,
      "outputs": [
        {
          "output_type": "stream",
          "name": "stdout",
          "text": [
            "['00' '04' '10' ... 'youtub' 'youtubefacebook' 'οh']\n"
          ]
        }
      ]
    },
    {
      "cell_type": "code",
      "source": [
        "# Afficher la matrice sous forme dense\n",
        "print(X_vect.todense())\n"
      ],
      "metadata": {
        "colab": {
          "base_uri": "https://localhost:8080/"
        },
        "id": "KVTOFU7f_maS",
        "outputId": "4dfdd2a2-dfc7-4c1a-c972-6c0c49b72345"
      },
      "execution_count": 111,
      "outputs": [
        {
          "output_type": "stream",
          "name": "stdout",
          "text": [
            "[[0 0 0 ... 0 0 0]\n",
            " [0 0 0 ... 0 0 0]\n",
            " [0 0 0 ... 0 0 0]\n",
            " ...\n",
            " [0 0 0 ... 1 0 0]\n",
            " [0 0 0 ... 0 0 0]\n",
            " [0 0 0 ... 0 0 0]]\n"
          ]
        }
      ]
    },
    {
      "cell_type": "code",
      "source": [
        "vect_binary = CountVectorizer(binary=True)\n",
        "X_vect_binary = vect_binary.fit_transform(df['CONTENT'])\n",
        "# Afficher la matrice binaire\n",
        "print(X_vect_binary.todense())\n"
      ],
      "metadata": {
        "colab": {
          "base_uri": "https://localhost:8080/"
        },
        "id": "_VJ1PlDK_rB1",
        "outputId": "d51473ba-db4f-41f3-badf-6f49f923850e"
      },
      "execution_count": 112,
      "outputs": [
        {
          "output_type": "stream",
          "name": "stdout",
          "text": [
            "[[0 0 0 ... 0 0 0]\n",
            " [0 0 0 ... 0 0 0]\n",
            " [0 0 0 ... 0 0 0]\n",
            " ...\n",
            " [0 0 0 ... 1 0 0]\n",
            " [0 0 0 ... 0 0 0]\n",
            " [0 0 0 ... 0 0 0]]\n"
          ]
        }
      ]
    },
    {
      "cell_type": "code",
      "source": [
        "tfidf_vect1 = TfidfVectorizer()\n",
        "tfidf_vect1.fit(df['CONTENT'])\n",
        "X_tfidf1 = tfidf_vect1.transform(df['CONTENT'])"
      ],
      "metadata": {
        "id": "rKUIFMhwDWix"
      },
      "execution_count": 113,
      "outputs": []
    },
    {
      "cell_type": "code",
      "source": [
        "print(X_tfidf1)"
      ],
      "metadata": {
        "colab": {
          "base_uri": "https://localhost:8080/"
        },
        "id": "Wa8UNvY5Dhqs",
        "outputId": "ed013e71-2db8-45e1-a6dc-54d2707963a0"
      },
      "execution_count": 114,
      "outputs": [
        {
          "output_type": "stream",
          "name": "stdout",
          "text": [
            "  (0, 730)\t0.4030558191912025\n",
            "  (0, 652)\t0.25258165647546416\n",
            "  (0, 590)\t0.1995872869395365\n",
            "  (0, 563)\t0.3577585826413426\n",
            "  (0, 403)\t0.4030558191912025\n",
            "  (0, 390)\t0.27138170825736024\n",
            "  (0, 101)\t0.4030558191912025\n",
            "  (0, 77)\t0.3312613978733787\n",
            "  (0, 70)\t0.3124613460914826\n",
            "  (1, 1033)\t0.33821531584069\n",
            "  (1, 1027)\t0.44729546753584537\n",
            "  (1, 876)\t0.44729546753584537\n",
            "  (1, 739)\t0.44729546753584537\n",
            "  (1, 469)\t0.2920915250710644\n",
            "  (1, 442)\t0.44729546753584537\n",
            "  (2, 1069)\t0.11906364968963955\n",
            "  (2, 1018)\t0.17683320357038285\n",
            "  (2, 866)\t0.17683320357038285\n",
            "  (2, 768)\t0.15056210949500456\n",
            "  (2, 738)\t0.17387005942262154\n",
            "  (2, 732)\t0.15695988808750344\n",
            "  (2, 716)\t0.17683320357038285\n",
            "  (2, 706)\t0.17683320357038285\n",
            "  (2, 704)\t0.17683320357038285\n",
            "  (2, 698)\t0.12795614310463507\n",
            "  :\t:\n",
            "  (348, 892)\t0.23741693391579186\n",
            "  (348, 877)\t0.10585505350403472\n",
            "  (348, 856)\t0.18919310939650194\n",
            "  (348, 818)\t0.18919310939650194\n",
            "  (348, 772)\t0.23741693391579186\n",
            "  (348, 722)\t0.11428729567257438\n",
            "  (348, 656)\t0.23741693391579186\n",
            "  (348, 640)\t0.23741693391579186\n",
            "  (348, 634)\t0.22180897078643205\n",
            "  (348, 576)\t0.23741693391579186\n",
            "  (348, 515)\t0.22180897078643205\n",
            "  (348, 482)\t0.21073494471115412\n",
            "  (348, 465)\t0.17179440601776674\n",
            "  (348, 422)\t0.23741693391579186\n",
            "  (348, 360)\t0.21073494471115412\n",
            "  (348, 333)\t0.23741693391579186\n",
            "  (348, 290)\t0.16251112019186426\n",
            "  (348, 258)\t0.20214526275869993\n",
            "  (348, 54)\t0.23741693391579186\n",
            "  (349, 944)\t0.4667725240574573\n",
            "  (349, 781)\t0.4667725240574573\n",
            "  (349, 546)\t0.22395903639930326\n",
            "  (349, 415)\t0.3385301190043282\n",
            "  (349, 374)\t0.39763004410214886\n",
            "  (349, 137)\t0.4913012091776237\n"
          ]
        }
      ]
    },
    {
      "cell_type": "code",
      "source": [
        "# Affichage du vocabulaire\n",
        "print(tfidf_vect1.get_feature_names_out())\n",
        "\n",
        "# Affichage de la matrice sous forme dense\n",
        "print(X_tfidf1.todense())"
      ],
      "metadata": {
        "colab": {
          "base_uri": "https://localhost:8080/"
        },
        "id": "ZjGo_QLvDhu8",
        "outputId": "329a155b-b6b9-4ecb-a5dc-be7398a0fa2e"
      },
      "execution_count": 115,
      "outputs": [
        {
          "output_type": "stream",
          "name": "stdout",
          "text": [
            "['00' '04' '10' ... 'youtub' 'youtubefacebook' 'οh']\n",
            "[[0.        0.        0.        ... 0.        0.        0.       ]\n",
            " [0.        0.        0.        ... 0.        0.        0.       ]\n",
            " [0.        0.        0.        ... 0.        0.        0.       ]\n",
            " ...\n",
            " [0.        0.        0.        ... 0.1104885 0.        0.       ]\n",
            " [0.        0.        0.        ... 0.        0.        0.       ]\n",
            " [0.        0.        0.        ... 0.        0.        0.       ]]\n"
          ]
        }
      ]
    }
  ]
}